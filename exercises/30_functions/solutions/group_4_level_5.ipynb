{
 "cells": [
  {
   "source": [
    "<div class=\"alert alert-block alert-warning\">\n",
    "\n",
    "# Aufgabe 5\n",
    "\n",
    "Sie arbeiten bei einem Unternehmen, dass Bilanzen prüft. Ihre Aufgabe ist es, alle Buchungen des Bank-Kontos mit den Belegen abzugleichen. Hierzu erhalten Sie die vorgenommenen Buchungen und alle Belege. Hier sollen Sie nun alle Buchungen durchgehen und den dazu passenden Beleg raussuchen. Dafür sollen Sie eine Funktion Check_Bank schreiben , welche die Objekte Buchungen und Belege kriegt. Bei beiden handelt es sich um Objekte des Typ List. Dabei steht immer bei jedem Eintrag in beiden Objekten die Buchungsnummer auf der linken Seite und auf der rechten der Betrag also z.b 71828 : 210 . Dabei ist 71828 die Buchungsnummer und 210 der Betrag. Suchen Sie für jede Buchung den Beleg und erfassen Sie in einem extra Array chronologisch nur die unter Hilfe 1. angegebenen Codes.\n",
    "\n",
    "</div>  \n",
    "<div class=\"alert alert-block alert-info\">\n",
    "\n",
    "### Hilfe\n",
    "\n",
    "1.Nutzen Sie die Funktion .append(0) , .append(1) und .append(2) um einem array einen resultatswert hinzuzufügen. 0 steht hierbei für Beleg nicht gefunden, 1 für Beleg gefunden mit unterschiedlichem Betrag und 2 für Beleg mit richtigem Betrag gefunden.<br>\n",
    "2.Um einen array zu definieren nutzen Sie Index_List = []<br>\n",
    "3.Buchungen und Belege sind Dictionaries. Sie beinhalten nur string Werte.<br>\n",
    "\n",
    "</div>"
   ],
   "cell_type": "markdown",
   "metadata": {}
  },
  {
   "cell_type": "code",
   "execution_count": null,
   "metadata": {},
   "outputs": [],
   "source": [
    "def Kontrolliere_Bank(Buchungen,Belege):\n",
    "###START\n",
    "    Index_List = []\n",
    "    for Buch_Schluessel in Buchungen:\n",
    "        Item_gefunden = False\n",
    "        Geld = False\n",
    "        for Beleg_Schluessel in Belege: \n",
    "            if(Buch_Schluessel == Beleg_Schluessel):\n",
    "                Item_gefunden = True\n",
    "                if(Buchungen[Buch_Schluessel] == Belege[Beleg_Schluessel]):\n",
    "                    Geld = True\n",
    "                break\n",
    "        if(Item_gefunden == False):\n",
    "            print(\"Beleg NR: \", Beleg_Schluessel , \" nicht gefunden.\")\n",
    "            Index_List.append(0)\n",
    "        else:\n",
    "            if(Geld == False):\n",
    "                print(\"Beleg NR: \" , Beleg_Schluessel , \" mit falschem Betrag gefunden.\")\n",
    "                Index_List.append(1)\n",
    "            else:\n",
    "                print(\"Beleg NR: \" , Beleg_Schluessel , \" korrekt verbucht.\")\n",
    "                Index_List.append(2)\n",
    "    return Index_List\n",
    "###ENDE"
   ]
  },
  {
   "cell_type": "markdown",
   "metadata": {},
   "source": [
    "***\n",
    "  # Automatische Tests\n",
    "  Ab hier finden Sie einige automatisierte Tests um Ihre Lösungen zu überprüfen. Um Ihre Lösung zu prüfen führen Sie bitte zuerst die Zelle mit Ihrer Lösung und danach die Zelle mit dem zugehörigen Test aus."
   ]
  },
  {
   "cell_type": "code",
   "execution_count": null,
   "metadata": {
    "tags": []
   },
   "outputs": [],
   "source": [
    "import sys\n",
    "sys.path.append(\"../..\")\n",
    "from nose.tools import assert_equal, assert_not_equal\n",
    "from utils import * \n",
    "\n",
    "try:\n",
    "    Buchungen = {\"75896\" : \"150,73\" , \"56665\" : \"890,14\" , \"78921\" : \"403,25\"}\n",
    "    Belege = {\"75896\" : \"200,00\" , \"56645\" : \"890,14\" , \"78921\" : \"403,25\"}\n",
    "    Erg = Kontrolliere_Bank(Buchungen,Belege)\n",
    "    expected_out = [1,0,2]\n",
    "    assert_equal(Erg, expected_out)\n",
    "    print(\"[OK] Richtige Buchungen und Belege wurden erkannt.\")\n",
    "except AssertionError as e:\n",
    "    print(\"[FEHLER] Falsches Ergebnis von\", Erg ,\".Richtig wäre\", expected_out ,\".\")\n",
    "    print(\"       \",e)\n",
    "except Exception as e:\n",
    "    print(\"[FEHLER]\", friendly_exceptions.msg(e))\n",
    "\n",
    "try:\n",
    "    Buchungen = {\"18481\" : \"150,73\" , \"56665\" : \"890,14\" , \"78921\" : \"403,25\"}\n",
    "    Belege = {\"78291\" : \"403,25\" , \"82492\" : \"890,14\" , \"18481\" : \"150,5\"}\n",
    "    Erg = Kontrolliere_Bank(Buchungen,Belege)\n",
    "    expected_out = [1,0,0]\n",
    "    assert_equal(Erg, expected_out)\n",
    "    print(\"[OK] Richtige Buchungen und Belege wurden erkannt.\")\n",
    "except AssertionError as e:\n",
    "    print(\"[FEHLER] Falsches Ergebnis von\", Erg ,\".Richtig wäre\", expected_out ,\".\")\n",
    "    print(\"       \",e)\n",
    "except Exception as e:\n",
    "    print(\"[FEHLER]\", friendly_exceptions.msg(e))\n",
    "\n",
    "try:\n",
    "    Buchungen = {\"75262\" : \"150,71\" , \"16543\" : \"890,14\" , \"543\" : \"403,25\"}\n",
    "    Belege = {\"75262\" : \"150,71\" , \"16543\" : \"890,14\" , \"543\" : \"150,5\"}\n",
    "    Erg = Kontrolliere_Bank(Buchungen,Belege)\n",
    "    expected_out = [2,2,1]\n",
    "    assert_equal(Erg, expected_out)\n",
    "    print(\"[OK] Richtige Buchungen und Belege wurden erkannt.\")\n",
    "except AssertionError as e:\n",
    "    print(\"[FEHLER] Falsches Ergebnis von\", Erg ,\".Richtig wäre\", expected_out ,\".\")\n",
    "    print(\"       \",e)\n",
    "except Exception as e:\n",
    "    print(\"[FEHLER]\", friendly_exceptions.msg(e))\n",
    "\n",
    "try:\n",
    "    Buchungen = {\"82392\" : \"150,71\" , \"2234\" : \"890,14\" , \"47427\" : \"403,25\"}\n",
    "    Belege = {\"75262\" : \"150,71\" , \"16543\" : \"890,14\" , \"543\" : \"150,5\"}\n",
    "    Erg = Kontrolliere_Bank(Buchungen,Belege)\n",
    "    expected_out = [0,0,0]\n",
    "    assert_equal(Erg, expected_out)\n",
    "    print(\"[OK] Richtige Buchungen und Belege wurden erkannt.\")\n",
    "except AssertionError as e:\n",
    "    print(\"[FEHLER] Falsches Ergebnis von\", Erg ,\".Richtig wäre\", expected_out ,\".\")\n",
    "    print(\"       \",e)\n",
    "except Exception as e:\n",
    "    print(\"[FEHLER]\", friendly_exceptions.msg(e))"
   ]
  }
 ],
 "metadata": {
  "language_info": {
   "codemirror_mode": {
    "name": "ipython",
    "version": 3
   },
   "file_extension": ".py",
   "mimetype": "text/x-python",
   "name": "python",
   "nbconvert_exporter": "python",
   "pygments_lexer": "ipython3",
   "version": "3.8.5-final"
  },
  "orig_nbformat": 2,
  "kernelspec": {
   "name": "Python 3.8.5 32-bit",
   "display_name": "Python 3.8.5 32-bit",
   "metadata": {
    "interpreter": {
     "hash": "7987c57931f2365761dc2a5f85e647decf73af6edff0c78918b92bfe7c5512ba"
    }
   }
  }
 },
 "nbformat": 4,
 "nbformat_minor": 2
}