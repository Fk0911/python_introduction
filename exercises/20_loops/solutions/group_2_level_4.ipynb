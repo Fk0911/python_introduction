{
 "cells": [
  {
   "source": [
    "# Aufgabe 4\n",
    "\n",
    "Es soll ein Programm zur automatischen Bewertung mehrerer Konten implementiert werden. So sollen aus einer Liste mehrerer Konten alle herausgefiltert werden, deren Kontostand negativ ist.  \n",
    "\n",
    "Implementieren Sie nun die Funktion `analyse_accounts`. Diese Funktion erhält als Parameter eine Liste `accounts`. Diese Liste besteht allerding aus mehreren Listen. So ist jedes Element der Liste `accounts` eine Liste bestehend aus dem Kontonamen als erstem Wert, gefolgt von dem Kontostand als zweitem Wert. Die Liste sieht also in etwa so aus: `[[\"Kasse\", +330], [\"Immobilien\", +25000], [\"Fuhrpark\", -16500]]`.  \n",
    "\n",
    "Als Ergebnis soll eine Liste mit nur den negativen Einträgen zurückgegeben werden. Ergebnis für obiges Beispiel wäre also: `[[\"Fuhrpark\", -16500]]`\n",
    "\n",
    "\n",
    "\n",
    "### Hilfe\n",
    "Sie können Ihre Lösung mit den automatisierten [Tests](#Automatische-Tests) weiter unten im Dokument überprüfen.<br>\n",
    "Eine Einführung in die `For-Schleifen` in Python finden Sie [hier](../../50_loops/for_loop.ipynb)."
   ],
   "cell_type": "markdown",
   "metadata": {
    "nbgrader": {
     "grade": false,
     "grade_id": "cell-ff608195d66a8b8c",
     "locked": true,
     "schema_version": 1,
     "solution": false
    }
   }
  },
  {
   "cell_type": "code",
   "execution_count": null,
   "metadata": {
    "nbgrader": {
     "grade": false,
     "grade_id": "cell-302c3da36eb63d24",
     "locked": false,
     "schema_version": 1,
     "solution": true
    }
   },
   "outputs": [],
   "source": [
    "def analyse_accounts(accounts):\n",
    "    \n",
    "    ###START\n",
    "    negative_accounts = []\n",
    "    for account in accounts:\n",
    "        if account[1] < 0:\n",
    "            negative_accounts.append(account)\n",
    "    \n",
    "    ###ENDE\n",
    "    return negative_accounts\n",
    "\n",
    "print(\"Bei \\\"accounts = [[\\\"Kasse\\\", +330], [\\\"Immobilien\\\", +25000]]\\\" liefert Ihre Funktion:\", analyse_accounts([[\"Kasse\", +330], [\"Immobilien\", -25000]]))"
   ]
  },
  {
   "cell_type": "markdown",
   "metadata": {
    "nbgrader": {
     "grade": false,
     "grade_id": "cell-f102a5e9b05f0d9e",
     "locked": true,
     "schema_version": 1,
     "solution": false
    }
   },
   "source": [
    "  ***\n",
    "  # Automatische Tests\n",
    "  Ab hier finden Sie einige automatisierte Tests um Ihre Lösungen zu überprüfen. Um Ihre Lösung zu prüfen führen Sie bitte zuerst die Zelle mit Ihrer Lösung und danach die Zelle mit dem zugehörigen Test aus.\n"
   ]
  },
  {
   "cell_type": "code",
   "execution_count": null,
   "metadata": {
    "nbgrader": {
     "grade": true,
     "grade_id": "cell-888b94242172b887",
     "locked": true,
     "points": 0,
     "schema_version": 1,
     "solution": false
    }
   },
   "outputs": [],
   "source": [
    "try:\n",
    "    analyse_accounts([[\"Kasse\", +330], [\"Immobilien\", +25000]])\n",
    "except NotImplementedError:\n",
    "    print(\"Bitte entfernen Sie das \\\"raise NotImplementedError()\\\"\")"
   ]
  },
  {
   "cell_type": "markdown",
   "metadata": {
    "nbgrader": {
     "grade": false,
     "grade_id": "cell-edd0aa6598228c47",
     "locked": true,
     "schema_version": 1,
     "solution": false
    }
   },
   "source": [
    "## Test 1 - Richtige Filterung\n",
    "Es sollen die Konten herausgefiltert werden, bei denen der Kontostand negativ ist."
   ]
  },
  {
   "cell_type": "code",
   "execution_count": null,
   "metadata": {
    "nbgrader": {
     "grade": true,
     "grade_id": "cell-cdd05810d4fbdcc6",
     "locked": true,
     "points": 0,
     "schema_version": 1,
     "solution": false
    }
   },
   "outputs": [],
   "source": [
    "from nose.tools import assert_equal\n",
    "\n",
    "accounts = [[\"Kasse\", +330], [\"Immobilien\", +25000], [\"Fuhrpark\", -16500]]\n",
    "negative_accounts = analyse_accounts(accounts)\n",
    "try:\n",
    "    assert_equal(negative_accounts, [[\"Fuhrpark\", -16500]])\n",
    "    print(\"Test 1 erfolgreich\")\n",
    "except AssertionError as e:\n",
    "    print(\"Das Konto \\\"Fuhrpark\\\" sollte als einziges Konto zurückgegeben werden\")\n",
    "    print(e)\n",
    "    \n",
    "\n",
    "accounts = [[\"Kasse\", -330], [\"Immobilien\", -25000], [\"Fuhrpark\", -16500]]\n",
    "negative_accounts = analyse_accounts(accounts)\n",
    "try:\n",
    "    assert_equal(negative_accounts, [[\"Kasse\", -330], [\"Immobilien\", -25000], [\"Fuhrpark\", -16500]])\n",
    "    print(\"Test 2 erfolgreich\")\n",
    "except AssertionError as e:\n",
    "    print(\"Die Konten \\\"Kasse, Immobilien und Fuhrpark\\\" sollten alle zurückgegeben werden\")\n",
    "    print(e)\n",
    "    \n",
    "\n",
    "accounts = [[\"Kasse\", -330], [\"Immobilien\", +25000], [\"Fuhrpark\", +16500], [\"Lager\", -200]]\n",
    "negative_accounts = analyse_accounts(accounts)\n",
    "try:\n",
    "    assert_equal(negative_accounts, [[\"Kasse\", -330], [\"Lager\", -200]])\n",
    "    print(\"Test 3 erfolgreich\")\n",
    "except AssertionError as e:\n",
    "    print(\"Die Konten \\\"Kasse und Lager\\\" sollten zurückgegeben werden\")\n",
    "    print(e)"
   ]
  }
 ],
 "metadata": {
  "celltoolbar": "Create Assignment",
  "file_extension": ".py",
  "kernelspec": {
   "display_name": "Python 3",
   "language": "python",
   "name": "python3"
  },
  "language_info": {
   "codemirror_mode": {
    "name": "ipython",
    "version": 3
   },
   "file_extension": ".py",
   "mimetype": "text/x-python",
   "name": "python",
   "nbconvert_exporter": "python",
   "pygments_lexer": "ipython3",
   "version": "3.7.2"
  },
  "mimetype": "text/x-python",
  "name": "python",
  "npconvert_exporter": "python",
  "pygments_lexer": "ipython3",
  "version": 3
 },
 "nbformat": 4,
 "nbformat_minor": 2
}